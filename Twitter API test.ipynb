{
 "cells": [
  {
   "cell_type": "code",
   "execution_count": 1,
   "metadata": {
    "collapsed": true
   },
   "outputs": [],
   "source": [
    "import json, config\n",
    "from requests_oauthlib import OAuth1Session\n",
    "\n",
    "CK = config.CONSUMER_KEY\n",
    "CS = config.CONSUMER_SECRET\n",
    "AT = config.ACCESS_TOKEN\n",
    "ATS = config.ACCESS_TOKEN_SECRET\n",
    "twitter = OAuth1Session(CK, CS, AT, ATS)"
   ]
  },
  {
   "cell_type": "code",
   "execution_count": 2,
   "metadata": {
    "collapsed": false
   },
   "outputs": [
    {
     "name": "stdout",
     "output_type": "stream",
     "text": [
      "とびた::RT @hait_todai: 「豪華企業勢揃い！HAITSクラスマッチングイベント開催いたしました！」\n",
      "\n",
      "先日ディップ株式会社オフィスにて、HAITSクラスマッチングイベントを開催いたしました。\n",
      "その様子をPRTimesに掲載されております！... https://t.co/…\n",
      "Wed Nov 29 09:29:51 +0000 2017\n",
      "----------------------------------------------------\n",
      "とびた::RT @GingerMcFall: Sofia is now the first AI Robot who is a citizen of Saudi Arabia, because of course. Hot Robot At SXSW Says She Wants To…\n",
      "Thu Nov 16 07:10:52 +0000 2017\n",
      "----------------------------------------------------\n",
      "とびた::RT @keiobouldering: LINE公式アカウントです！\n",
      "当サークルに興味ある方はこちらに連絡ください😋！ https://t.co/W1TWNjpg0p\n",
      "Sun Nov 12 11:46:25 +0000 2017\n",
      "----------------------------------------------------\n",
      "とびた::RT @ren_17mr0: 僕が尊敬する114514人の中の一人である@mr_todai_2さんに便乗し【rtされた数×1m】上まで行ってきます\n",
      "\n",
      "(参考)\n",
      "10m ららぽーと横浜3F\n",
      "100m スチールドラゴン\n",
      "450m スカイツリー展望回廊\n",
      "3776m 富士山\n",
      "80000…\n",
      "Fri Oct 20 08:14:04 +0000 2017\n",
      "----------------------------------------------------\n",
      "とびた::RT @andydandy23: おにぎりを2個買ったらおつりが40円でした。5円玉が8枚返ってきました。\n",
      "\n",
      "たくさんのご縁がこれからもあるといいなと思います。\n",
      "\n",
      "Twitterはじめました。\n",
      "Tue Oct 17 13:33:41 +0000 2017\n",
      "----------------------------------------------------\n"
     ]
    }
   ],
   "source": [
    "url = \"https://api.twitter.com/1.1/statuses/user_timeline.json\"\n",
    "\n",
    "params ={'count' : 5}\n",
    "req = twitter.get(url, params = params)\n",
    "\n",
    "if req.status_code == 200:\n",
    "    timeline = json.loads(req.text)\n",
    "    for tweet in timeline:\n",
    "        print(tweet['user']['name']+'::'+tweet['text'])\n",
    "        print(tweet['created_at'])\n",
    "        print('----------------------------------------------------')\n",
    "else:\n",
    "    print(\"ERROR: %d\" % req.status_code)"
   ]
  },
  {
   "cell_type": "code",
   "execution_count": 3,
   "metadata": {
    "collapsed": false
   },
   "outputs": [
    {
     "name": "stdout",
     "output_type": "stream",
     "text": [
      "何を調べますか?\n",
      ">> 松本人志\n",
      "----------------------------------------------------\n",
      "ちゃん::RT @hyodo_masatoshi: 松本人志が、安倍晋三との食事は最初で最後と。やっぱりネットの批判を気にしているのだね。でも日頃の発言が権力の犬になっているから、三流芸人であることには変わりない。呼ばれたら、またいそいそと出てゆくと思うよ。https://t.co/7r…\n",
      "Sun Dec 24 08:30:10 +0000 2017\n",
      "----------------------------------------------------\n",
      "綾ママ::RT @Beriozka1917: 私は松本人志の「政治家なんて今なったって、汚職もでけへんし不倫もでけへんし、うまみなんにもない」という発言の方が、安倍首相との会食が割り勘云々より余程問題だと思いますね。汚職や不倫を「政治家としてのうまみ」と考えているから、ああいう腐敗した政…\n",
      "Sun Dec 24 08:30:05 +0000 2017\n",
      "----------------------------------------------------\n",
      "Eddy Osawa::RT @hyodo_masatoshi: 松本人志が、安倍晋三との食事は最初で最後と。やっぱりネットの批判を気にしているのだね。でも日頃の発言が権力の犬になっているから、三流芸人であることには変わりない。呼ばれたら、またいそいそと出てゆくと思うよ。https://t.co/7r…\n",
      "Sun Dec 24 08:30:03 +0000 2017\n",
      "----------------------------------------------------\n",
      "気まぐれなシッポ(こんな猫たち)::RT @Beriozka1917: 私は松本人志の「政治家なんて今なったって、汚職もでけへんし不倫もでけへんし、うまみなんにもない」という発言の方が、安倍首相との会食が割り勘云々より余程問題だと思いますね。汚職や不倫を「政治家としてのうまみ」と考えているから、ああいう腐敗した政…\n",
      "Sun Dec 24 08:30:01 +0000 2017\n",
      "----------------------------------------------------\n",
      "さつまのかみ なんちゃら(買収五輪って本当に要る?::RT @Beriozka1917: 私は松本人志の「政治家なんて今なったって、汚職もでけへんし不倫もでけへんし、うまみなんにもない」という発言の方が、安倍首相との会食が割り勘云々より余程問題だと思いますね。汚職や不倫を「政治家としてのうまみ」と考えているから、ああいう腐敗した政…\n",
      "Sun Dec 24 08:29:58 +0000 2017\n",
      "----------------------------------------------------\n"
     ]
    }
   ],
   "source": [
    "url = \"https://api.twitter.com/1.1/search/tweets.json\"\n",
    "\n",
    "print(\"何を調べますか?\")\n",
    "keyword = input('>> ')\n",
    "print('----------------------------------------------------')\n",
    "\n",
    "\n",
    "params = {'q' : keyword, 'count' : 5}\n",
    "\n",
    "req = twitter.get(url, params = params)\n",
    "\n",
    "if req.status_code == 200:\n",
    "    search_timeline = json.loads(req.text)\n",
    "    for tweet in search_timeline['statuses']:\n",
    "        print(tweet['user']['name'] + '::' + tweet['text'])\n",
    "        print(tweet['created_at'])\n",
    "        print('----------------------------------------------------')\n",
    "else:\n",
    "    print(\"ERROR: %d\" % req.status_code)   "
   ]
  },
  {
   "cell_type": "code",
   "execution_count": null,
   "metadata": {
    "collapsed": true
   },
   "outputs": [],
   "source": []
  }
 ],
 "metadata": {
  "kernelspec": {
   "display_name": "Python 3",
   "language": "python",
   "name": "python3"
  },
  "language_info": {
   "codemirror_mode": {
    "name": "ipython",
    "version": 3
   },
   "file_extension": ".py",
   "mimetype": "text/x-python",
   "name": "python",
   "nbconvert_exporter": "python",
   "pygments_lexer": "ipython3",
   "version": "3.6.0"
  }
 },
 "nbformat": 4,
 "nbformat_minor": 2
}
